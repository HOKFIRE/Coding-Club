{
  "nbformat": 4,
  "nbformat_minor": 0,
  "metadata": {
    "colab": {
      "provenance": [],
      "authorship_tag": "ABX9TyMP709pMvbAQBB3EQ3Aygre",
      "include_colab_link": true
    },
    "kernelspec": {
      "name": "python3",
      "display_name": "Python 3"
    },
    "language_info": {
      "name": "python"
    }
  },
  "cells": [
    {
      "cell_type": "markdown",
      "metadata": {
        "id": "view-in-github",
        "colab_type": "text"
      },
      "source": [
        "<a href=\"https://colab.research.google.com/github/HOKFIRE/Coding-Club/blob/main/Conditional_Statements.ipynb\" target=\"_parent\"><img src=\"https://colab.research.google.com/assets/colab-badge.svg\" alt=\"Open In Colab\"/></a>"
      ]
    },
    {
      "cell_type": "code",
      "execution_count": null,
      "metadata": {
        "colab": {
          "base_uri": "https://localhost:8080/"
        },
        "id": "NK71EVDFWILQ",
        "outputId": "1b777944-0cbe-4308-d30e-f7a6c886f294"
      },
      "outputs": [
        {
          "output_type": "stream",
          "name": "stdout",
          "text": [
            "Right now I am reading The Mark of Athena\n"
          ]
        }
      ],
      "source": [
        "book = \"The Mark of Athena\"\n",
        "print(f\"Right now I am reading {book}\")"
      ]
    },
    {
      "cell_type": "code",
      "source": [
        "is_sunny = True\n",
        "print(is_sunny)"
      ],
      "metadata": {
        "colab": {
          "base_uri": "https://localhost:8080/"
        },
        "id": "on6fZdtAXGEs",
        "outputId": "46ce93e8-2881-4b84-b667-24c640aa3ebf"
      },
      "execution_count": null,
      "outputs": [
        {
          "output_type": "stream",
          "name": "stdout",
          "text": [
            "True\n"
          ]
        }
      ]
    },
    {
      "cell_type": "code",
      "source": [
        "a = 36\n",
        "b = 8\n",
        "result = a < b\n",
        "print(f\"Is {a} smaller than {b}? {result}\")"
      ],
      "metadata": {
        "colab": {
          "base_uri": "https://localhost:8080/"
        },
        "id": "6ol7z9UAXVrL",
        "outputId": "990cfe6f-8973-40f6-98f4-51a1eeec501c"
      },
      "execution_count": null,
      "outputs": [
        {
          "output_type": "stream",
          "name": "stdout",
          "text": [
            "Is 36 smaller than 8? False\n"
          ]
        }
      ]
    },
    {
      "cell_type": "code",
      "source": [
        "day_of_week = input(\"What day of the week is it?\")\n",
        "result = day_of_week == \"Sunday\"\n",
        "print(f\"Is today Sunday? {result}\")\n"
      ],
      "metadata": {
        "colab": {
          "base_uri": "https://localhost:8080/"
        },
        "id": "PoLaeRyZa85K",
        "outputId": "a4c9e848-2dd0-461a-d38f-a31c4c68863b"
      },
      "execution_count": null,
      "outputs": [
        {
          "output_type": "stream",
          "name": "stdout",
          "text": [
            "What day of the week is it?Monday\n",
            "Is today Sunday? False\n"
          ]
        }
      ]
    }
  ]
}