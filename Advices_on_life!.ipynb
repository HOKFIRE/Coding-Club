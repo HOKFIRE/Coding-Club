{
  "nbformat": 4,
  "nbformat_minor": 0,
  "metadata": {
    "colab": {
      "provenance": [],
      "authorship_tag": "ABX9TyOiZIVOOVtcmVQgLBJtEnyj",
      "include_colab_link": true
    },
    "kernelspec": {
      "name": "python3",
      "display_name": "Python 3"
    },
    "language_info": {
      "name": "python"
    }
  },
  "cells": [
    {
      "cell_type": "markdown",
      "metadata": {
        "id": "view-in-github",
        "colab_type": "text"
      },
      "source": [
        "<a href=\"https://colab.research.google.com/github/HOKFIRE/Coding-Club/blob/main/Advices_on_life!.ipynb\" target=\"_parent\"><img src=\"https://colab.research.google.com/assets/colab-badge.svg\" alt=\"Open In Colab\"/></a>"
      ]
    },
    {
      "cell_type": "code",
      "execution_count": 1,
      "metadata": {
        "colab": {
          "base_uri": "https://localhost:8080/"
        },
        "id": "FH7BT_fkiDhJ",
        "outputId": "3a076b53-3802-4be9-de1c-a695abbfd2f8"
      },
      "outputs": [
        {
          "output_type": "stream",
          "name": "stdout",
          "text": [
            "Remember to compliment different people every day!\n"
          ]
        }
      ],
      "source": [
        "def advice():\n",
        "  print(\"Remember to compliment different people every day!\")\n",
        "advice()"
      ]
    },
    {
      "cell_type": "code",
      "source": [
        "def life_advice():\n",
        "  print(\"Treat others how you want to be treated! Don't be mean to others!\")\n",
        "life_advice()"
      ],
      "metadata": {
        "colab": {
          "base_uri": "https://localhost:8080/"
        },
        "id": "IdUJgT3AidkL",
        "outputId": "5b220ee0-f8fe-4b0d-d8a4-62a04a9db439"
      },
      "execution_count": 2,
      "outputs": [
        {
          "output_type": "stream",
          "name": "stdout",
          "text": [
            "Treat others how you want to be treated! Don't be mean to others!\n"
          ]
        }
      ]
    },
    {
      "cell_type": "code",
      "source": [
        "def advice():\n",
        "  print(\"Honesty is the best policy!\")\n",
        "advice()"
      ],
      "metadata": {
        "colab": {
          "base_uri": "https://localhost:8080/"
        },
        "id": "66OqQUBLiqRF",
        "outputId": "ff20b929-d119-4db6-a139-d728f6ccbca3"
      },
      "execution_count": 3,
      "outputs": [
        {
          "output_type": "stream",
          "name": "stdout",
          "text": [
            "Honesty is the best policy!\n"
          ]
        }
      ]
    }
  ]
}