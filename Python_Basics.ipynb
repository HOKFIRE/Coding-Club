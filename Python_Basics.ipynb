{
  "nbformat": 4,
  "nbformat_minor": 0,
  "metadata": {
    "colab": {
      "provenance": [],
      "authorship_tag": "ABX9TyOa4z5YncCwfItfXsZa6gjY",
      "include_colab_link": true
    },
    "kernelspec": {
      "name": "python3",
      "display_name": "Python 3"
    },
    "language_info": {
      "name": "python"
    }
  },
  "cells": [
    {
      "cell_type": "markdown",
      "metadata": {
        "id": "view-in-github",
        "colab_type": "text"
      },
      "source": [
        "<a href=\"https://colab.research.google.com/github/HOKFIRE/Coding-Club/blob/main/Python_Basics.ipynb\" target=\"_parent\"><img src=\"https://colab.research.google.com/assets/colab-badge.svg\" alt=\"Open In Colab\"/></a>"
      ]
    },
    {
      "cell_type": "code",
      "execution_count": null,
      "metadata": {
        "colab": {
          "base_uri": "https://localhost:8080/"
        },
        "id": "Zz5idLZVn5jM",
        "outputId": "7de8baed-634c-437e-b6da-fd53975927bc"
      },
      "outputs": [
        {
          "output_type": "stream",
          "name": "stdout",
          "text": [
            "Hello, my name is Hana.\n"
          ]
        }
      ],
      "source": [
        "print(\"Hello, my name is Hana.\")"
      ]
    },
    {
      "cell_type": "markdown",
      "source": [
        "This is my first notebook.\n"
      ],
      "metadata": {
        "id": "xdZjpKmwoHQX"
      }
    },
    {
      "cell_type": "code",
      "source": [
        "yourname= input(\"What is your name?:\")\n",
        "yourname"
      ],
      "metadata": {
        "id": "lYhnLEDLoP0f"
      },
      "execution_count": null,
      "outputs": []
    }
  ]
}