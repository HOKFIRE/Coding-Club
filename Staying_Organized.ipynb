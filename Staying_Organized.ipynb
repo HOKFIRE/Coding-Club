{
  "nbformat": 4,
  "nbformat_minor": 0,
  "metadata": {
    "colab": {
      "provenance": [],
      "authorship_tag": "ABX9TyMaZv3TK5I2hraMy2I19l/a",
      "include_colab_link": true
    },
    "kernelspec": {
      "name": "python3",
      "display_name": "Python 3"
    },
    "language_info": {
      "name": "python"
    }
  },
  "cells": [
    {
      "cell_type": "markdown",
      "metadata": {
        "id": "view-in-github",
        "colab_type": "text"
      },
      "source": [
        "<a href=\"https://colab.research.google.com/github/HOKFIRE/Coding-Club/blob/main/Staying_Organized.ipynb\" target=\"_parent\"><img src=\"https://colab.research.google.com/assets/colab-badge.svg\" alt=\"Open In Colab\"/></a>"
      ]
    },
    {
      "cell_type": "code",
      "execution_count": 1,
      "metadata": {
        "colab": {
          "base_uri": "https://localhost:8080/"
        },
        "id": "MfEHuv2Lg4sa",
        "outputId": "c3c21d5a-66ff-456c-f69e-fdfde0c2d738"
      },
      "outputs": [
        {
          "output_type": "stream",
          "name": "stdout",
          "text": [
            "Make sure to keep your room clean and organize all the stuff in your room, unlike me.\n"
          ]
        }
      ],
      "source": [
        "def organize():\n",
        "  print(\"Make sure to keep your room clean and organize all the stuff in your room, unlike me.\")\n",
        "organize()"
      ]
    },
    {
      "cell_type": "code",
      "source": [
        "def organize():\n",
        "  print(\"Have an agenda or schedule and have a routine for everyday.\")\n",
        "organize()"
      ],
      "metadata": {
        "colab": {
          "base_uri": "https://localhost:8080/"
        },
        "id": "KCaLDSMQhJan",
        "outputId": "526ae1ce-50c7-4a05-d46b-fc8ffeb75531"
      },
      "execution_count": 2,
      "outputs": [
        {
          "output_type": "stream",
          "name": "stdout",
          "text": [
            "Have an agenda or schedule and have a routine for everyday.\n"
          ]
        }
      ]
    },
    {
      "cell_type": "code",
      "source": [
        "def school_organization():\n",
        "  print(\"Have an agenda, binders/folders, and a pencil case to keep things organized for elementary school/middle school/high school!\")\n",
        "school_organization()"
      ],
      "metadata": {
        "colab": {
          "base_uri": "https://localhost:8080/"
        },
        "id": "d2l4QjEWhcqt",
        "outputId": "e23c4965-587b-47bb-b3c1-5c627cfa207f"
      },
      "execution_count": 6,
      "outputs": [
        {
          "output_type": "stream",
          "name": "stdout",
          "text": [
            "Have an agenda, binders/folders, and a pencil case to keep things organized for elementary school/middle school/high school!\n"
          ]
        }
      ]
    }
  ]
}