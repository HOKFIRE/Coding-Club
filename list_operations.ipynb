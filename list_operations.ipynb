{
  "nbformat": 4,
  "nbformat_minor": 0,
  "metadata": {
    "colab": {
      "provenance": [],
      "authorship_tag": "ABX9TyN1yjVAMpeDF0T59kE/WEy8",
      "include_colab_link": true
    },
    "kernelspec": {
      "name": "python3",
      "display_name": "Python 3"
    },
    "language_info": {
      "name": "python"
    }
  },
  "cells": [
    {
      "cell_type": "markdown",
      "metadata": {
        "id": "view-in-github",
        "colab_type": "text"
      },
      "source": [
        "<a href=\"https://colab.research.google.com/github/HOKFIRE/Coding-Club/blob/main/list_operations.ipynb\" target=\"_parent\"><img src=\"https://colab.research.google.com/assets/colab-badge.svg\" alt=\"Open In Colab\"/></a>"
      ]
    },
    {
      "cell_type": "code",
      "execution_count": null,
      "metadata": {
        "colab": {
          "base_uri": "https://localhost:8080/"
        },
        "id": "HILEebLOMC5-",
        "outputId": "22d42da3-59fe-45b6-acc0-2a9f0c5a4f52"
      },
      "outputs": [
        {
          "output_type": "stream",
          "name": "stdout",
          "text": [
            "['Chul', 'Dara', 'Hana', 'Mireu']\n"
          ]
        }
      ],
      "source": [
        "names = [\"Hana\", \"Chul\", \"Dara\", \"Mireu\"]\n",
        "names.sort()\n",
        "print(names)"
      ]
    },
    {
      "cell_type": "code",
      "source": [
        "authors = [\"Riordan, Rick\", \"Messanger, Shannon\", \"Hunter, Erin\" , \"Ursu, Anne\", \"Zarr, Sara\", \"Libenson, Terri\"]\n",
        "authors.sort()\n",
        "print(authors)"
      ],
      "metadata": {
        "colab": {
          "base_uri": "https://localhost:8080/"
        },
        "id": "bRjj8LuZRfRm",
        "outputId": "7d627cef-1c0e-4925-b732-6a3c2ecb29fa"
      },
      "execution_count": null,
      "outputs": [
        {
          "output_type": "stream",
          "name": "stdout",
          "text": [
            "['Hunter, Erin', 'Libenson, Terri', 'Messanger, Shannon', 'Riordan, Rick', 'Ursu, Anne', 'Zarr, Sara']\n"
          ]
        }
      ]
    }
  ]
}