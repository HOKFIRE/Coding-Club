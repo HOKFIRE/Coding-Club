{
  "nbformat": 4,
  "nbformat_minor": 0,
  "metadata": {
    "colab": {
      "provenance": [],
      "authorship_tag": "ABX9TyOqPnvkn8/qcU3K6szE9XPk",
      "include_colab_link": true
    },
    "kernelspec": {
      "name": "python3",
      "display_name": "Python 3"
    },
    "language_info": {
      "name": "python"
    }
  },
  "cells": [
    {
      "cell_type": "markdown",
      "metadata": {
        "id": "view-in-github",
        "colab_type": "text"
      },
      "source": [
        "<a href=\"https://colab.research.google.com/github/HOKFIRE/Coding-Club/blob/main/%22Thanks%22_for_Github.ipynb\" target=\"_parent\"><img src=\"https://colab.research.google.com/assets/colab-badge.svg\" alt=\"Open In Colab\"/></a>"
      ]
    },
    {
      "cell_type": "code",
      "execution_count": 3,
      "metadata": {
        "colab": {
          "base_uri": "https://localhost:8080/"
        },
        "id": "xaTBvAN5TxZm",
        "outputId": "c27c4848-8b84-4610-adc5-4318228512d7"
      },
      "outputs": [
        {
          "output_type": "stream",
          "name": "stdout",
          "text": [
            "Hello\n"
          ]
        }
      ],
      "source": [
        "def hello():\n",
        "  print(\"Hello\")\n",
        "hello()"
      ]
    },
    {
      "cell_type": "code",
      "source": [
        "def hana():\n",
        "  print(\"Welcome, Hana! It is so nice to see you again!😄\")\n",
        "hana()"
      ],
      "metadata": {
        "colab": {
          "base_uri": "https://localhost:8080/"
        },
        "id": "W0LnENQlaEMC",
        "outputId": "f9ca908c-32d6-4052-8c41-edbb85008774"
      },
      "execution_count": 4,
      "outputs": [
        {
          "output_type": "stream",
          "name": "stdout",
          "text": [
            "Welcome, Hana! It is so nice to see you again!😄\n"
          ]
        }
      ]
    },
    {
      "cell_type": "code",
      "source": [
        "def github():\n",
        "  print(\"Thank you for letting me use github! It helps me track my activities through out the week. Thank you!\")\n",
        "github()"
      ],
      "metadata": {
        "id": "c73vvY6fbW0i"
      },
      "execution_count": null,
      "outputs": []
    }
  ]
}