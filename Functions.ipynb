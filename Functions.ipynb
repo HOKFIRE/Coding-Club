{
  "nbformat": 4,
  "nbformat_minor": 0,
  "metadata": {
    "colab": {
      "provenance": [],
      "authorship_tag": "ABX9TyN5UlHfl8DH/yiLTPYUj+7v",
      "include_colab_link": true
    },
    "kernelspec": {
      "name": "python3",
      "display_name": "Python 3"
    },
    "language_info": {
      "name": "python"
    }
  },
  "cells": [
    {
      "cell_type": "markdown",
      "metadata": {
        "id": "view-in-github",
        "colab_type": "text"
      },
      "source": [
        "<a href=\"https://colab.research.google.com/github/HOKFIRE/Coding-Club/blob/main/Functions.ipynb\" target=\"_parent\"><img src=\"https://colab.research.google.com/assets/colab-badge.svg\" alt=\"Open In Colab\"/></a>"
      ]
    },
    {
      "cell_type": "code",
      "execution_count": null,
      "metadata": {
        "colab": {
          "base_uri": "https://localhost:8080/"
        },
        "id": "3X19BXZnXmGe",
        "outputId": "2569645d-725e-4b90-832d-d71533c46427"
      },
      "outputs": [
        {
          "output_type": "stream",
          "name": "stdout",
          "text": [
            "Good Morning Everyone\n",
            "Nice to see you guys again\n"
          ]
        }
      ],
      "source": [
        "def greet_user():\n",
        "  print(\"Good Morning Everyone\")\n",
        "  print(\"Nice to see you guys again\")\n",
        "greet_user()"
      ]
    },
    {
      "cell_type": "code",
      "source": [
        "def greet_user2(name):\n",
        "  print(\"Good Morning\",name)\n",
        "  print(\"Nice to see you again\")\n",
        "greet_user2(\"Hana\")"
      ],
      "metadata": {
        "colab": {
          "base_uri": "https://localhost:8080/"
        },
        "id": "oIZ2UZxFX8k4",
        "outputId": "4e12f614-130f-4869-e071-48bded8ac145"
      },
      "execution_count": null,
      "outputs": [
        {
          "output_type": "stream",
          "name": "stdout",
          "text": [
            "Good Morning Hana\n",
            "Nice to see you again\n"
          ]
        }
      ]
    }
  ]
}