{
  "nbformat": 4,
  "nbformat_minor": 0,
  "metadata": {
    "colab": {
      "provenance": [],
      "authorship_tag": "ABX9TyPqh+tzJbKymbyDCsu11ZIZ",
      "include_colab_link": true
    },
    "kernelspec": {
      "name": "python3",
      "display_name": "Python 3"
    },
    "language_info": {
      "name": "python"
    }
  },
  "cells": [
    {
      "cell_type": "markdown",
      "metadata": {
        "id": "view-in-github",
        "colab_type": "text"
      },
      "source": [
        "<a href=\"https://colab.research.google.com/github/HOKFIRE/Coding-Club/blob/main/String_Operations.ipynb\" target=\"_parent\"><img src=\"https://colab.research.google.com/assets/colab-badge.svg\" alt=\"Open In Colab\"/></a>"
      ]
    },
    {
      "cell_type": "code",
      "execution_count": null,
      "metadata": {
        "colab": {
          "base_uri": "https://localhost:8080/"
        },
        "id": "UeKkql29SyEX",
        "outputId": "fb97ae2b-999f-404b-852b-c63768359e3a"
      },
      "outputs": [
        {
          "output_type": "stream",
          "name": "stdout",
          "text": [
            "['Terri', 'Libenson']\n"
          ]
        }
      ],
      "source": [
        "author_name = \"Terri Libenson\"\n",
        "first_last = author_name.split()\n",
        "print(first_last)"
      ]
    },
    {
      "cell_type": "code",
      "source": [
        "full_name = \"Hana Olivia Kim\"\n",
        "f_m_l = full_name.split()\n",
        "print(f_m_l)"
      ],
      "metadata": {
        "colab": {
          "base_uri": "https://localhost:8080/"
        },
        "id": "Ga29PskhTLQA",
        "outputId": "b4746b47-c182-4a23-e77e-366b3b7752fc"
      },
      "execution_count": null,
      "outputs": [
        {
          "output_type": "stream",
          "name": "stdout",
          "text": [
            "['Hana', 'Olivia', 'Kim']\n"
          ]
        }
      ]
    },
    {
      "cell_type": "code",
      "source": [
        "game = \"UCLA / USC\"\n",
        "game = game.replace(\"/\", \"vs\")\n",
        "print(game)"
      ],
      "metadata": {
        "colab": {
          "base_uri": "https://localhost:8080/"
        },
        "id": "d_YO5ApoOklc",
        "outputId": "a119b583-b239-43e3-e831-02e5216afe6f"
      },
      "execution_count": null,
      "outputs": [
        {
          "output_type": "stream",
          "name": "stdout",
          "text": [
            "UCLA vs USC\n"
          ]
        }
      ]
    },
    {
      "cell_type": "code",
      "source": [
        "author_name = \"Louisa; May; Alcott\"\n",
        "f_m_l = author_name.split(\"a\")\n",
        "print(f_m_l)"
      ],
      "metadata": {
        "colab": {
          "base_uri": "https://localhost:8080/"
        },
        "id": "yyYwSL7YPds4",
        "outputId": "464c108d-c342-436b-8a92-ec8f20549cb3"
      },
      "execution_count": null,
      "outputs": [
        {
          "output_type": "stream",
          "name": "stdout",
          "text": [
            "['Louis', '; M', 'y; Alcott']\n"
          ]
        }
      ]
    }
  ]
}